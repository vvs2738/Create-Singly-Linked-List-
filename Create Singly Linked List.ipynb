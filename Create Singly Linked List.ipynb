{
 "cells": [
  {
   "cell_type": "code",
   "execution_count": 9,
   "metadata": {},
   "outputs": [
    {
     "name": "stdout",
     "output_type": "stream",
     "text": [
      "Enter Number of Nodes in Linked List:-4\n",
      "23\n",
      "243\n",
      "5\n",
      "23\n",
      "Linked List is:-\n",
      "23\n",
      "243\n",
      "5\n",
      "23\n"
     ]
    }
   ],
   "source": [
    "# A single node of a singly linked list\n",
    "# Linked List Node class\n",
    "class Node:\n",
    "  def __init__(self, data = None, next=None): \n",
    "    self.data = data\n",
    "    self.next = next \n",
    "# A Linked List class with a single head node\n",
    "class LinkedList:\n",
    "  # Intialize head node \n",
    "  def __init__(self,head=None):  \n",
    "    self.head = None\n",
    "  \n",
    "  # Insert node into linked list\n",
    "  def insert(self, data):\n",
    "    \n",
    "    #create New Linked List Node\n",
    "    newNode = Node(data)\n",
    "    \n",
    "    #If self head node and other nodes are available, current variable is head node\n",
    "    if(self.head):\n",
    "      current = self.head\n",
    "      # Iterate current variable until next node available\n",
    "      while(current.next):\n",
    "        current = current.next\n",
    "      current.next = newNode\n",
    "    \n",
    "    #If self head node is only available, current variable is head node\n",
    "    else:\n",
    "      self.head = newNode\n",
    "  \n",
    "  # Print linked list\n",
    "  def printLL(self):\n",
    "    current = self.head\n",
    "    while(current):\n",
    "      print(current.data)\n",
    "      current = current.next\n",
    "\n",
    "# Singly Linked List with insertion and print methods\n",
    "LL = LinkedList()\n",
    "n= int(input(\"Enter Number of Nodes in Linked List:-\"))\n",
    "for i in range(n):\n",
    "    inputdata=int(input())\n",
    "    LL.insert(inputdata)\n",
    "print(\"Linked List is:-\")\n",
    "LL.printLL()\n",
    "\n",
    " "
   ]
  },
  {
   "cell_type": "code",
   "execution_count": null,
   "metadata": {},
   "outputs": [],
   "source": []
  }
 ],
 "metadata": {
  "kernelspec": {
   "display_name": "Python 3",
   "language": "python",
   "name": "python3"
  },
  "language_info": {
   "codemirror_mode": {
    "name": "ipython",
    "version": 3
   },
   "file_extension": ".py",
   "mimetype": "text/x-python",
   "name": "python",
   "nbconvert_exporter": "python",
   "pygments_lexer": "ipython3",
   "version": "3.8.5"
  }
 },
 "nbformat": 4,
 "nbformat_minor": 4
}
